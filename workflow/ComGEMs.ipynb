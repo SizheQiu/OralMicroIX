{
 "cells": [
  {
   "cell_type": "code",
   "execution_count": 1,
   "id": "47cc99b9",
   "metadata": {},
   "outputs": [],
   "source": [
    "import pandas as pd\n",
    "import numpy as np\n",
    "from matplotlib import pyplot as plt\n",
    "import seaborn as sns\n",
    "from os import listdir\n",
    "import cobra\n",
    "from cobra.io import load_json_model, save_json_model, read_sbml_model\n",
    "from cobra.medium import minimal_medium"
   ]
  },
  {
   "cell_type": "code",
   "execution_count": 2,
   "id": "9cd64de2",
   "metadata": {},
   "outputs": [],
   "source": [
    "import warnings\n",
    "warnings.filterwarnings(\"ignore\")"
   ]
  },
  {
   "cell_type": "code",
   "execution_count": 3,
   "id": "386f740f",
   "metadata": {},
   "outputs": [],
   "source": [
    "Agems = listdir('../data/A_GEMs/'); Bgems = listdir('../data/B_GEMs/');"
   ]
  },
  {
   "cell_type": "code",
   "execution_count": 40,
   "id": "4cc4431f",
   "metadata": {},
   "outputs": [],
   "source": [
    "# mini_meds = {}\n",
    "# for name in Agems+Bgems:\n",
    "#     if name[0]=='A':\n",
    "#         model = read_sbml_model('../data/A_GEMs/'+name)\n",
    "#     else:\n",
    "#         model = read_sbml_model('../data/B_GEMs/'+name)\n",
    "#     result = minimal_medium(model,0.01,minimize_components=True)\n",
    "#     mini_meds[ name.replace('.xml','') ] = list( result.keys() ) "
   ]
  },
  {
   "cell_type": "code",
   "execution_count": 51,
   "id": "c9d469ef",
   "metadata": {},
   "outputs": [],
   "source": [
    "# all_mets = []\n",
    "# for k in mini_meds:\n",
    "#     all_mets += mini_meds[k]\n",
    "# all_mets = list( set(all_mets) )\n",
    "# data=[]\n",
    "# for k in mini_meds:\n",
    "#     temp = {met:0 for met in all_mets}; temp['bin_id'] = k\n",
    "#     for met in mini_meds[k]:\n",
    "#         temp[met] = 1\n",
    "#     data.append(temp)\n",
    "# minmeds = pd.DataFrame(data)\n",
    "# minmeds = minmeds[['bin_id']+all_mets]\n",
    "# for col in all_mets:\n",
    "#     minmeds = minmeds.rename(columns={col:col.replace('EX_','').replace('_e','')})\n",
    "# minmeds.to_csv('../data/metagenome/cobra_mini_med.csv',index=None)"
   ]
  },
  {
   "cell_type": "code",
   "execution_count": null,
   "id": "857cc70f",
   "metadata": {},
   "outputs": [],
   "source": []
  }
 ],
 "metadata": {
  "kernelspec": {
   "display_name": "Python 3 (ipykernel)",
   "language": "python",
   "name": "python3"
  },
  "language_info": {
   "codemirror_mode": {
    "name": "ipython",
    "version": 3
   },
   "file_extension": ".py",
   "mimetype": "text/x-python",
   "name": "python",
   "nbconvert_exporter": "python",
   "pygments_lexer": "ipython3",
   "version": "3.8.10"
  }
 },
 "nbformat": 4,
 "nbformat_minor": 5
}
