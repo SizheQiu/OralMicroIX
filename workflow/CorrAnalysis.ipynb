{
 "cells": [
  {
   "cell_type": "code",
   "execution_count": null,
   "id": "ed6dab38",
   "metadata": {},
   "outputs": [],
   "source": [
    "import numpy as np\n",
    "import pandas as pd\n",
    "import matplotlib.pyplot as plt\n",
    "import seaborn as sns"
   ]
  },
  {
   "cell_type": "code",
   "execution_count": null,
   "id": "082685d0",
   "metadata": {},
   "outputs": [],
   "source": [
    "from scipy.stats import kendalltau, pearsonr, spearmanr\n",
    "def pearsonr_pval(x,y):\n",
    "    return pearsonr(x,y)[1]\n",
    "def spearmanr_pval(x,y):\n",
    "    return spearmanr(x,y)[1]\n",
    "def sig_pv(x):\n",
    "    if x <= 0.05:\n",
    "        return 1\n",
    "    return 0"
   ]
  },
  {
   "cell_type": "code",
   "execution_count": null,
   "id": "9469dc99",
   "metadata": {},
   "outputs": [],
   "source": [
    "oral_tax = pd.read_csv('../data/metagenome/motus_profile.csv')\n",
    "spnames = [ x.split('[ref')[0].split('[meta')[0].split('[ext')[0].\\\n",
    "           replace('[','').replace(']','').strip() for x in list(oral_tax['Species'])]\n",
    "oral_tax['Species'] = spnames; oral_tax = oral_tax.rename(columns={'Species':'Sample'})\n",
    "oral_tax = oral_tax.set_index(['Sample'])\n",
    "oral_tax = oral_tax.T; oral_quant = oral_tax.groupby(oral_tax.columns, axis=1).sum();\n",
    "oral_quant.head()"
   ]
  },
  {
   "cell_type": "markdown",
   "id": "15507b29",
   "metadata": {},
   "source": [
    "# Species-species"
   ]
  },
  {
   "cell_type": "markdown",
   "id": "924901f7",
   "metadata": {},
   "source": [
    "# Species-metabolites"
   ]
  },
  {
   "cell_type": "code",
   "execution_count": null,
   "id": "4e199777",
   "metadata": {},
   "outputs": [],
   "source": []
  }
 ],
 "metadata": {
  "kernelspec": {
   "display_name": "Python 3 (ipykernel)",
   "language": "python",
   "name": "python3"
  },
  "language_info": {
   "codemirror_mode": {
    "name": "ipython",
    "version": 3
   },
   "file_extension": ".py",
   "mimetype": "text/x-python",
   "name": "python",
   "nbconvert_exporter": "python",
   "pygments_lexer": "ipython3",
   "version": "3.8.10"
  }
 },
 "nbformat": 4,
 "nbformat_minor": 5
}
