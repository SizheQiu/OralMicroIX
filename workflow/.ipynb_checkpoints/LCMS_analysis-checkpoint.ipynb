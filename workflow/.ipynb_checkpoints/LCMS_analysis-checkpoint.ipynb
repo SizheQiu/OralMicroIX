{
 "cells": [
  {
   "cell_type": "code",
   "execution_count": 1,
   "id": "f3d4a688",
   "metadata": {},
   "outputs": [],
   "source": [
    "import pandas as pd\n",
    "import numpy as np\n",
    "from matplotlib import pyplot as plt\n",
    "# import seaborn as sns\n",
    "# from os import listdir\n",
    "# from sklearn.preprocessing import StandardScaler\n",
    "# import umap\n",
    "# from matplotlib_venn import venn2, venn3"
   ]
  },
  {
   "cell_type": "code",
   "execution_count": 13,
   "id": "b71f7a27",
   "metadata": {},
   "outputs": [],
   "source": [
    "# lcms_raw = pd.read_csv('../data/metabolome/lcms.csv')\n",
    "# lcms_raw = lcms_raw.dropna(subset=['HMDB ID', 'KEGG ID'], how='all').reset_index().drop(['index'],axis=1)\n",
    "# compound_names = [x.split('|')[0].strip() for x in lcms_raw['Compound']]\n",
    "# lcms_raw['Compound'] = compound_names\n",
    "# lcms_raw = lcms_raw.drop(['HMDB ID','KEGG ID'],axis=1)\n",
    "# lcms_raw = lcms_raw.set_index(['Compound'])\n",
    "# lcms_raw = lcms_raw.groupby(lcms_raw.index, axis=0).sum()\n",
    "# lcms_raw.to_csv('../data/metabolome/processed_lcms.csv')"
   ]
  },
  {
   "cell_type": "markdown",
   "id": "8d6785b4",
   "metadata": {},
   "source": [
    "# Differential analysis for oral metabolites"
   ]
  },
  {
   "cell_type": "code",
   "execution_count": 2,
   "id": "d84ef054",
   "metadata": {},
   "outputs": [],
   "source": [
    "from pydeseq2.dds import DeseqDataSet\n",
    "from pydeseq2.default_inference import DefaultInference\n",
    "from pydeseq2.ds import DeseqStats"
   ]
  },
  {
   "cell_type": "code",
   "execution_count": 3,
   "id": "7a4353d7",
   "metadata": {},
   "outputs": [],
   "source": [
    "lcms = pd.read_csv('../data/metabolome/processed_lcms.csv')\n",
    "lcms = lcms.rename(columns={'Compound':'Sample'})\n",
    "lcms = lcms.set_index(['Sample'])\n",
    "meta = pd.DataFrame(zip(list(lcms.columns), ['A' for i in range(10)] + ['B' for i in range(10)] ), \n",
    "                    columns=['Sample','Group'])\n",
    "meta = meta.set_index('Sample')\n",
    "for k in lcms.columns:\n",
    "    temp = [ int(x*1e5) for x in list(lcms[k]) ]\n",
    "    lcms[k] = temp\n",
    "lcms = lcms.T\n",
    "\n",
    "inference = DefaultInference()\n",
    "dds = DeseqDataSet( counts= lcms, metadata= meta,\n",
    "    design_factors=\"Group\", refit_cooks=True,ref_level= [\"Group\", \"A\"], inference=inference )"
   ]
  },
  {
   "cell_type": "code",
   "execution_count": 4,
   "id": "3fed4068",
   "metadata": {},
   "outputs": [
    {
     "name": "stderr",
     "output_type": "stream",
     "text": [
      "Fitting size factors...\n",
      "... done in 0.00 seconds.\n",
      "\n",
      "Fitting dispersions...\n",
      "... done in 0.55 seconds.\n",
      "\n",
      "Fitting dispersion trend curve...\n",
      "... done in 0.10 seconds.\n",
      "\n",
      "Fitting MAP dispersions...\n",
      "... done in 0.67 seconds.\n",
      "\n",
      "Fitting LFCs...\n",
      "... done in 0.45 seconds.\n",
      "\n",
      "Refitting 134 outliers.\n",
      "\n",
      "Fitting dispersions...\n",
      "... done in 0.18 seconds.\n",
      "\n",
      "Fitting MAP dispersions...\n"
     ]
    },
    {
     "name": "stdout",
     "output_type": "stream",
     "text": [
      "AnnData object with n_obs × n_vars = 20 × 1065\n",
      "    obs: 'Group'\n",
      "    uns: 'trend_coeffs', '_squared_logres', 'prior_disp_var'\n",
      "    obsm: 'design_matrix', 'size_factors', 'replaceable'\n",
      "    varm: 'non_zero', '_MoM_dispersions', 'genewise_dispersions', '_genewise_converged', '_normed_means', 'fitted_dispersions', 'MAP_dispersions', '_MAP_converged', 'dispersions', '_outlier_genes', 'LFC', '_LFC_converged', 'replaced'\n",
      "    layers: 'normed_counts', '_mu_hat', '_mu_LFC', '_hat_diagonals', 'cooks', 'replace_cooks'\n"
     ]
    },
    {
     "name": "stderr",
     "output_type": "stream",
     "text": [
      "... done in 0.20 seconds.\n",
      "\n",
      "Fitting LFCs...\n",
      "... done in 0.17 seconds.\n",
      "\n"
     ]
    }
   ],
   "source": [
    "dds.deseq2()\n",
    "print(dds)"
   ]
  },
  {
   "cell_type": "code",
   "execution_count": 5,
   "id": "291e03ec",
   "metadata": {},
   "outputs": [
    {
     "name": "stdout",
     "output_type": "stream",
     "text": [
      "Log2 fold change & Wald test p-value: Group B vs A\n",
      "                                                        baseMean  \\\n",
      "Sample                                                             \n",
      "(+)-12-methyl myristic acid                           930.113979   \n",
      "(+)-24-Dammarene-3beta-20S-diol                       652.654576   \n",
      "(+)-Catechin hydrate                                  924.555090   \n",
      "(+)-Isostearic acid                                 64806.422988   \n",
      "(10E,15Z)-9,12,13-trihydroxyoctadeca-10,15-dien...    267.814571   \n",
      "...                                                          ...   \n",
      "tuberculosinol                                        141.994834   \n",
      "α-ESA                                                2478.988213   \n",
      "α-MANGOSTIN                                          1885.631180   \n",
      "β-Amyrin                                             1680.584927   \n",
      "δ-Valerolactam                                      19626.544596   \n",
      "\n",
      "                                                    log2FoldChange     lfcSE  \\\n",
      "Sample                                                                         \n",
      "(+)-12-methyl myristic acid                               1.296698  0.498630   \n",
      "(+)-24-Dammarene-3beta-20S-diol                          -1.592781  0.373202   \n",
      "(+)-Catechin hydrate                                     -1.439690  0.441943   \n",
      "(+)-Isostearic acid                                      -0.501589  0.250569   \n",
      "(10E,15Z)-9,12,13-trihydroxyoctadeca-10,15-dien...        1.255509  0.442502   \n",
      "...                                                            ...       ...   \n",
      "tuberculosinol                                            1.886485  0.647738   \n",
      "α-ESA                                                     2.869452  0.641326   \n",
      "α-MANGOSTIN                                              -1.286319  0.368248   \n",
      "β-Amyrin                                                  1.926119  0.622182   \n",
      "δ-Valerolactam                                            1.208588  0.485382   \n",
      "\n",
      "                                                        stat    pvalue  \\\n",
      "Sample                                                                   \n",
      "(+)-12-methyl myristic acid                         2.600520  0.009308   \n",
      "(+)-24-Dammarene-3beta-20S-diol                    -4.267877  0.000020   \n",
      "(+)-Catechin hydrate                               -3.257640  0.001123   \n",
      "(+)-Isostearic acid                                -2.001796  0.045307   \n",
      "(10E,15Z)-9,12,13-trihydroxyoctadeca-10,15-dien...  2.837299  0.004550   \n",
      "...                                                      ...       ...   \n",
      "tuberculosinol                                      2.912422  0.003586   \n",
      "α-ESA                                               4.474251  0.000008   \n",
      "α-MANGOSTIN                                        -3.493077  0.000477   \n",
      "β-Amyrin                                            3.095749  0.001963   \n",
      "δ-Valerolactam                                      2.489975  0.012775   \n",
      "\n",
      "                                                        padj  \n",
      "Sample                                                        \n",
      "(+)-12-methyl myristic acid                         0.024120  \n",
      "(+)-24-Dammarene-3beta-20S-diol                     0.000375  \n",
      "(+)-Catechin hydrate                                0.004866  \n",
      "(+)-Isostearic acid                                 0.085100  \n",
      "(10E,15Z)-9,12,13-trihydroxyoctadeca-10,15-dien...  0.013765  \n",
      "...                                                      ...  \n",
      "tuberculosinol                                      0.011574  \n",
      "α-ESA                                               0.000209  \n",
      "α-MANGOSTIN                                         0.002825  \n",
      "β-Amyrin                                            0.007339  \n",
      "δ-Valerolactam                                      0.030782  \n",
      "\n",
      "[1065 rows x 6 columns]\n"
     ]
    },
    {
     "name": "stderr",
     "output_type": "stream",
     "text": [
      "Running Wald tests...\n",
      "... done in 0.06 seconds.\n",
      "\n"
     ]
    }
   ],
   "source": [
    "diffanalysis = DeseqStats(dds,contrast= ['Group', 'B', 'A'], inference=inference)\n",
    "diffanalysis.summary()"
   ]
  },
  {
   "cell_type": "code",
   "execution_count": 6,
   "id": "77f4e12a",
   "metadata": {},
   "outputs": [],
   "source": [
    "# diffanalysis.results_df.to_csv(\"../data/metabolome/met_deg.csv\")"
   ]
  },
  {
   "cell_type": "markdown",
   "id": "d3030921",
   "metadata": {},
   "source": [
    "# UMAP"
   ]
  },
  {
   "cell_type": "code",
   "execution_count": 14,
   "id": "a877233c",
   "metadata": {},
   "outputs": [],
   "source": [
    "lcms = pd.read_csv('../data/metabolome/processed_lcms.csv')\n",
    "lcms = lcms.rename(columns={'Compound':'Sample'})\n",
    "lcms = lcms.set_index(['Sample'])\n",
    "lcms = lcms.T\n",
    "threshold = pd.read_csv('../data/metagenome/Thresholds.csv')\n",
    "threshold =threshold.set_index(['Sample'])\n",
    "threshold = threshold.reindex(list(lcms.index))"
   ]
  },
  {
   "cell_type": "code",
   "execution_count": 15,
   "id": "a69415a5",
   "metadata": {},
   "outputs": [
    {
     "name": "stderr",
     "output_type": "stream",
     "text": [
      "/home/bras5181/miniconda3/lib/python3.8/site-packages/umap/umap_.py:1945: UserWarning: n_jobs value 1 overridden to 1 by setting random_state. Use no seed for parallelism.\n",
      "  warn(f\"n_jobs value {self.n_jobs} overridden to 1 by setting random_state. Use no seed for parallelism.\")\n"
     ]
    }
   ],
   "source": [
    "X = lcms.iloc[:,:].values\n",
    "X = StandardScaler().fit_transform(X)\n",
    "reducer_met = umap.UMAP(random_state=42)\n",
    "embedding = reducer_met.fit_transform(X)\n",
    "umap_pd = pd.DataFrame(embedding, columns =['UMAP-1','UMAP-2'])\n",
    "umap_pd['Group'] = ['A (20~30yr)' for i in range(10)] + ['B (55~80yr)' for i in range(10)]"
   ]
  },
  {
   "cell_type": "code",
   "execution_count": 16,
   "id": "8b2defca",
   "metadata": {},
   "outputs": [
    {
     "data": {
      "text/plain": [
       "<matplotlib.colorbar.Colorbar at 0x7f9511f8fe50>"
      ]
     },
     "execution_count": 16,
     "metadata": {},
     "output_type": "execute_result"
    },
    {
     "data": {
      "image/png": "[encoded data removed]",
      "text/plain": [
       "<Figure size 1008x396 with 3 Axes>"
      ]
     },
     "metadata": {
      "needs_background": "light"
     },
     "output_type": "display_data"
    }
   ],
   "source": [
    "fig, axs = plt.subplots(1,2,figsize=(14,5.5))\n",
    "sns.scatterplot(x='UMAP-1', y='UMAP-2',hue=\"Group\",\n",
    "            linewidth=1,data=umap_pd, s=300, alpha=0.7, edgecolor='black', ax=axs[0])\n",
    "pt1=axs[1].scatter( umap_pd['UMAP-1'], umap_pd['UMAP-2'], c=np.log2(threshold['Detection threshold']), \n",
    "                   cmap='seismic',alpha=0.7,s=300, edgecolor='black')\n",
    "plt.colorbar(pt1, label='Detection threshold (log2 g/L)', aspect=50)"
   ]
  },
  {
   "cell_type": "code",
   "execution_count": null,
   "id": "f3a351a0",
   "metadata": {},
   "outputs": [],
   "source": []
  }
 ],
 "metadata": {
  "kernelspec": {
   "display_name": "Python 3 (ipykernel)",
   "language": "python",
   "name": "python3"
  },
  "language_info": {
   "codemirror_mode": {
    "name": "ipython",
    "version": 3
   },
   "file_extension": ".py",
   "mimetype": "text/x-python",
   "name": "python",
   "nbconvert_exporter": "python",
   "pygments_lexer": "ipython3",
   "version": "3.8.18"
  }
 },
 "nbformat": 4,
 "nbformat_minor": 5
}
