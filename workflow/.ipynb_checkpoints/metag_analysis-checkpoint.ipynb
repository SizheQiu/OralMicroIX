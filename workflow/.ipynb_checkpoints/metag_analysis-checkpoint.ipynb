{
 "cells": [
  {
   "cell_type": "code",
   "execution_count": 3,
   "id": "df8d9eb0",
   "metadata": {},
   "outputs": [],
   "source": [
    "import pandas as pd\n",
    "import numpy as np\n",
    "from matplotlib import pyplot as plt\n",
    "# import seaborn as sns\n",
    "# from os import listdir\n",
    "# from sklearn.preprocessing import StandardScaler\n",
    "# import umap"
   ]
  },
  {
   "cell_type": "code",
   "execution_count": 2,
   "id": "a0dcdd1c",
   "metadata": {},
   "outputs": [],
   "source": [
    "# taxfiles = listdir('../../MOTUS_TAX/')\n",
    "# tax_values = []; samples = [];\n",
    "# for f in taxfiles:\n",
    "#     temp = pd.read_csv('../../MOTUS_TAX/'+f,skiprows=2,sep='\\t')\n",
    "#     tax_values.append(list(temp['unnamed sample']))\n",
    "#     samples.append(f.split('_')[0])\n",
    "# temp = pd.read_csv('../../MOTUS_TAX/A10_tax.txt',skiprows=2,sep='\\t')\n",
    "# taxnames = [ x for x in list(temp['#consensus_taxonomy'])]\n",
    "\n",
    "\n",
    "# oral_tax = pd.DataFrame(zip(taxnames),columns=['Species'])\n",
    "# for i in range(len(samples)):\n",
    "#     oral_tax[samples[i]]=tax_values[i]\n",
    "    \n",
    "# oral_tax = oral_tax.set_index(['Species'])\n",
    "# oral_tax = oral_tax.loc[(oral_tax !=0).any(axis=1)]\n",
    "# oral_tax.to_csv('../data/metagenome/motus_profile.csv')"
   ]
  },
  {
   "cell_type": "markdown",
   "id": "47935e3b",
   "metadata": {},
   "source": [
    "# Differential analysis for species-level microbial abundance"
   ]
  },
  {
   "cell_type": "code",
   "execution_count": 4,
   "id": "050c7e07",
   "metadata": {},
   "outputs": [],
   "source": [
    "# from pydeseq2.dds import DeseqDataSet\n",
    "# from pydeseq2.default_inference import DefaultInference\n",
    "# from pydeseq2.ds import DeseqStats"
   ]
  },
  {
   "cell_type": "code",
   "execution_count": 5,
   "id": "4e193ce6",
   "metadata": {},
   "outputs": [],
   "source": [
    "# oral_tax = pd.read_csv('../data/metagenome/motus_profile.csv')\n",
    "# oral_tax = oral_tax.rename(columns={'Species':'Sample'})\n",
    "\n",
    "# meta = pd.DataFrame(zip(list(oral_tax.columns)[1:], \n",
    "#                     ['A' for i in range(10)] + ['B' for i in range(10)] ), columns=['Sample','Group'])\n",
    "# meta = meta.set_index('Sample')\n",
    "\n",
    "# oral_tax = oral_tax.set_index(['Sample'])\n",
    "# for k in oral_tax.columns:\n",
    "#     temp = [ int(x*1e5) for x in list(oral_tax[k]) ]\n",
    "#     oral_tax[k] = temp\n",
    "# oral_tax = oral_tax.T\n",
    "\n",
    "# inference = DefaultInference()\n",
    "# dds = DeseqDataSet( counts= oral_tax, metadata= meta,\n",
    "#     design_factors=\"Group\", refit_cooks=True,ref_level= [\"Group\", \"A\"], inference=inference )"
   ]
  },
  {
   "cell_type": "code",
   "execution_count": 6,
   "id": "28d0aa7a",
   "metadata": {},
   "outputs": [
    {
     "name": "stderr",
     "output_type": "stream",
     "text": [
      "Fitting size factors...\n",
      "... done in 0.00 seconds.\n",
      "\n",
      "Fitting dispersions...\n",
      "... done in 0.52 seconds.\n",
      "\n",
      "Fitting dispersion trend curve...\n",
      "... done in 0.32 seconds.\n",
      "\n",
      "Fitting MAP dispersions...\n",
      "... done in 0.69 seconds.\n",
      "\n",
      "Fitting LFCs...\n",
      "... done in 1.04 seconds.\n",
      "\n",
      "Refitting 235 outliers.\n",
      "\n",
      "Fitting dispersions...\n",
      "... done in 0.20 seconds.\n",
      "\n",
      "Fitting MAP dispersions...\n",
      "... done in 0.20 seconds.\n",
      "\n",
      "Fitting LFCs...\n"
     ]
    },
    {
     "name": "stdout",
     "output_type": "stream",
     "text": [
      "AnnData object with n_obs × n_vars = 20 × 850\n",
      "    obs: 'Group'\n",
      "    uns: 'trend_coeffs', '_squared_logres', 'prior_disp_var'\n",
      "    obsm: 'design_matrix', 'size_factors', 'replaceable'\n",
      "    varm: 'non_zero', '_MoM_dispersions', 'genewise_dispersions', '_genewise_converged', '_normed_means', 'fitted_dispersions', 'MAP_dispersions', '_MAP_converged', 'dispersions', '_outlier_genes', 'LFC', '_LFC_converged', 'replaced'\n",
      "    layers: 'normed_counts', '_mu_hat', '_mu_LFC', '_hat_diagonals', 'cooks', 'replace_cooks'\n"
     ]
    },
    {
     "name": "stderr",
     "output_type": "stream",
     "text": [
      "... done in 0.24 seconds.\n",
      "\n"
     ]
    }
   ],
   "source": [
    "# dds.deseq2()\n",
    "# print(dds)"
   ]
  },
  {
   "cell_type": "code",
   "execution_count": 7,
   "id": "948f3987",
   "metadata": {},
   "outputs": [
    {
     "name": "stdout",
     "output_type": "stream",
     "text": [
      "Log2 fold change & Wald test p-value: Group B vs A\n",
      "                                                       baseMean  \\\n",
      "Sample                                                            \n",
      "Enterobacter sp. [ref_mOTU_v31_00077]                  3.614516   \n",
      "Weissella confusa [ref_mOTU_v31_00254]                 4.490679   \n",
      "Acinetobacter baumannii [ref_mOTU_v31_00259]           4.717895   \n",
      "Streptococcus pneumoniae [ref_mOTU_v31_00282]        631.648156   \n",
      "Streptococcus sp. [ref_mOTU_v31_00283]              5478.454696   \n",
      "...                                                         ...   \n",
      "Candidatus Saccharibacteria species incertae se...     0.562862   \n",
      "Candidatus Saccharibacteria species incertae se...    11.726143   \n",
      "Candidatus Saccharibacteria species incertae se...     1.410175   \n",
      "Actinomycetaceae species incertae sedis [ext_mO...     6.664958   \n",
      "unassigned                                          4052.535748   \n",
      "\n",
      "                                                    log2FoldChange     lfcSE  \\\n",
      "Sample                                                                         \n",
      "Enterobacter sp. [ref_mOTU_v31_00077]                     5.316354  0.000000   \n",
      "Weissella confusa [ref_mOTU_v31_00254]                   -5.680141  0.000000   \n",
      "Acinetobacter baumannii [ref_mOTU_v31_00259]             -5.753135  0.000000   \n",
      "Streptococcus pneumoniae [ref_mOTU_v31_00282]            -0.735090  0.603554   \n",
      "Streptococcus sp. [ref_mOTU_v31_00283]                   -1.121139  0.613590   \n",
      "...                                                            ...       ...   \n",
      "Candidatus Saccharibacteria species incertae se...        2.603852  3.112867   \n",
      "Candidatus Saccharibacteria species incertae se...        1.406777  2.178243   \n",
      "Candidatus Saccharibacteria species incertae se...        2.386252  2.987845   \n",
      "Actinomycetaceae species incertae sedis [ext_mO...        0.787155  2.409810   \n",
      "unassigned                                               -0.628512  0.431600   \n",
      "\n",
      "                                                        stat    pvalue  \\\n",
      "Sample                                                                   \n",
      "Enterobacter sp. [ref_mOTU_v31_00077]               0.000000       NaN   \n",
      "Weissella confusa [ref_mOTU_v31_00254]              0.000000       NaN   \n",
      "Acinetobacter baumannii [ref_mOTU_v31_00259]        0.000000       NaN   \n",
      "Streptococcus pneumoniae [ref_mOTU_v31_00282]      -1.217937  0.223248   \n",
      "Streptococcus sp. [ref_mOTU_v31_00283]             -1.827180  0.067673   \n",
      "...                                                      ...       ...   \n",
      "Candidatus Saccharibacteria species incertae se...  0.836480  0.402885   \n",
      "Candidatus Saccharibacteria species incertae se...  0.645831  0.518389   \n",
      "Candidatus Saccharibacteria species incertae se...  0.798653  0.424492   \n",
      "Actinomycetaceae species incertae sedis [ext_mO...  0.326646  0.743935   \n",
      "unassigned                                         -1.456238  0.145327   \n",
      "\n",
      "                                                        padj  \n",
      "Sample                                                        \n",
      "Enterobacter sp. [ref_mOTU_v31_00077]                    NaN  \n",
      "Weissella confusa [ref_mOTU_v31_00254]                   NaN  \n",
      "Acinetobacter baumannii [ref_mOTU_v31_00259]             NaN  \n",
      "Streptococcus pneumoniae [ref_mOTU_v31_00282]       0.782729  \n",
      "Streptococcus sp. [ref_mOTU_v31_00283]              0.499894  \n",
      "...                                                      ...  \n",
      "Candidatus Saccharibacteria species incertae se...       NaN  \n",
      "Candidatus Saccharibacteria species incertae se...  0.905468  \n",
      "Candidatus Saccharibacteria species incertae se...       NaN  \n",
      "Actinomycetaceae species incertae sedis [ext_mO...       NaN  \n",
      "unassigned                                          0.719897  \n",
      "\n",
      "[850 rows x 6 columns]\n"
     ]
    },
    {
     "name": "stderr",
     "output_type": "stream",
     "text": [
      "Running Wald tests...\n",
      "... done in 0.08 seconds.\n",
      "\n"
     ]
    }
   ],
   "source": [
    "# diffanalysis = DeseqStats(dds,contrast= ['Group', 'B', 'A'], inference=inference)\n",
    "# diffanalysis.summary()"
   ]
  },
  {
   "cell_type": "code",
   "execution_count": 8,
   "id": "9a213786",
   "metadata": {},
   "outputs": [],
   "source": [
    "# diffanalysis.results_df.to_csv(\"../data/metagenome/sps_deg.csv\")"
   ]
  },
  {
   "cell_type": "markdown",
   "id": "814acb29",
   "metadata": {},
   "source": [
    "# UMAP"
   ]
  },
  {
   "cell_type": "code",
   "execution_count": 14,
   "id": "1bc8b844",
   "metadata": {},
   "outputs": [
    {
     "data": {
      "text/html": [
       "<div>\n",
       "<style scoped>\n",
       "    .dataframe tbody tr th:only-of-type {\n",
       "        vertical-align: middle;\n",
       "    }\n",
       "\n",
       "    .dataframe tbody tr th {\n",
       "        vertical-align: top;\n",
       "    }\n",
       "\n",
       "    .dataframe thead th {\n",
       "        text-align: right;\n",
       "    }\n",
       "</style>\n",
       "<table border=\"1\" class=\"dataframe\">\n",
       "  <thead>\n",
       "    <tr style=\"text-align: right;\">\n",
       "      <th></th>\n",
       "      <th>Species</th>\n",
       "      <th>A10</th>\n",
       "      <th>A11</th>\n",
       "      <th>A1</th>\n",
       "      <th>A20</th>\n",
       "      <th>A28</th>\n",
       "      <th>A29</th>\n",
       "      <th>A30</th>\n",
       "      <th>A6</th>\n",
       "      <th>A7</th>\n",
       "      <th>...</th>\n",
       "      <th>B10</th>\n",
       "      <th>B1</th>\n",
       "      <th>B2</th>\n",
       "      <th>B3</th>\n",
       "      <th>B4</th>\n",
       "      <th>B5</th>\n",
       "      <th>B6</th>\n",
       "      <th>B7</th>\n",
       "      <th>B8</th>\n",
       "      <th>B9</th>\n",
       "    </tr>\n",
       "  </thead>\n",
       "  <tbody>\n",
       "    <tr>\n",
       "      <th>0</th>\n",
       "      <td>Enterobacter sp.</td>\n",
       "      <td>0.000000</td>\n",
       "      <td>0.000000</td>\n",
       "      <td>0.000000</td>\n",
       "      <td>0.000000</td>\n",
       "      <td>0.000000</td>\n",
       "      <td>0.000000</td>\n",
       "      <td>0.000000</td>\n",
       "      <td>0.000000</td>\n",
       "      <td>0.000000</td>\n",
       "      <td>...</td>\n",
       "      <td>0.000000</td>\n",
       "      <td>0.000000</td>\n",
       "      <td>0.000000</td>\n",
       "      <td>0.000424</td>\n",
       "      <td>0.000000</td>\n",
       "      <td>0.000000</td>\n",
       "      <td>0.000000</td>\n",
       "      <td>0.000000</td>\n",
       "      <td>0.000000</td>\n",
       "      <td>0.000000</td>\n",
       "    </tr>\n",
       "    <tr>\n",
       "      <th>1</th>\n",
       "      <td>Weissella confusa</td>\n",
       "      <td>0.000000</td>\n",
       "      <td>0.000000</td>\n",
       "      <td>0.000000</td>\n",
       "      <td>0.000000</td>\n",
       "      <td>0.000000</td>\n",
       "      <td>0.000000</td>\n",
       "      <td>0.000000</td>\n",
       "      <td>0.000000</td>\n",
       "      <td>0.000000</td>\n",
       "      <td>...</td>\n",
       "      <td>0.000000</td>\n",
       "      <td>0.000000</td>\n",
       "      <td>0.000000</td>\n",
       "      <td>0.000000</td>\n",
       "      <td>0.000000</td>\n",
       "      <td>0.000000</td>\n",
       "      <td>0.000000</td>\n",
       "      <td>0.000000</td>\n",
       "      <td>0.000000</td>\n",
       "      <td>0.000000</td>\n",
       "    </tr>\n",
       "    <tr>\n",
       "      <th>2</th>\n",
       "      <td>Acinetobacter baumannii</td>\n",
       "      <td>0.000000</td>\n",
       "      <td>0.000000</td>\n",
       "      <td>0.000000</td>\n",
       "      <td>0.000672</td>\n",
       "      <td>0.000000</td>\n",
       "      <td>0.000000</td>\n",
       "      <td>0.000000</td>\n",
       "      <td>0.000000</td>\n",
       "      <td>0.000757</td>\n",
       "      <td>...</td>\n",
       "      <td>0.000000</td>\n",
       "      <td>0.000000</td>\n",
       "      <td>0.000000</td>\n",
       "      <td>0.000000</td>\n",
       "      <td>0.000000</td>\n",
       "      <td>0.000000</td>\n",
       "      <td>0.000000</td>\n",
       "      <td>0.000000</td>\n",
       "      <td>0.000000</td>\n",
       "      <td>0.000000</td>\n",
       "    </tr>\n",
       "    <tr>\n",
       "      <th>3</th>\n",
       "      <td>Streptococcus pneumoniae</td>\n",
       "      <td>0.001360</td>\n",
       "      <td>0.005897</td>\n",
       "      <td>0.015333</td>\n",
       "      <td>0.010607</td>\n",
       "      <td>0.009416</td>\n",
       "      <td>0.009800</td>\n",
       "      <td>0.001223</td>\n",
       "      <td>0.014987</td>\n",
       "      <td>0.001853</td>\n",
       "      <td>...</td>\n",
       "      <td>0.003100</td>\n",
       "      <td>0.001984</td>\n",
       "      <td>0.010287</td>\n",
       "      <td>0.001397</td>\n",
       "      <td>0.001143</td>\n",
       "      <td>0.007331</td>\n",
       "      <td>0.003402</td>\n",
       "      <td>0.003255</td>\n",
       "      <td>0.017243</td>\n",
       "      <td>0.005107</td>\n",
       "    </tr>\n",
       "    <tr>\n",
       "      <th>4</th>\n",
       "      <td>Streptococcus sp.</td>\n",
       "      <td>0.017302</td>\n",
       "      <td>0.056198</td>\n",
       "      <td>0.127674</td>\n",
       "      <td>0.123936</td>\n",
       "      <td>0.089117</td>\n",
       "      <td>0.083096</td>\n",
       "      <td>0.018752</td>\n",
       "      <td>0.128475</td>\n",
       "      <td>0.038433</td>\n",
       "      <td>...</td>\n",
       "      <td>0.018196</td>\n",
       "      <td>0.022069</td>\n",
       "      <td>0.053126</td>\n",
       "      <td>0.001520</td>\n",
       "      <td>0.013387</td>\n",
       "      <td>0.063578</td>\n",
       "      <td>0.029547</td>\n",
       "      <td>0.012871</td>\n",
       "      <td>0.128268</td>\n",
       "      <td>0.041494</td>\n",
       "    </tr>\n",
       "  </tbody>\n",
       "</table>\n",
       "<p>5 rows × 21 columns</p>\n",
       "</div>"
      ],
      "text/plain": [
       "                    Species       A10       A11        A1       A20       A28  \\\n",
       "0          Enterobacter sp.  0.000000  0.000000  0.000000  0.000000  0.000000   \n",
       "1         Weissella confusa  0.000000  0.000000  0.000000  0.000000  0.000000   \n",
       "2   Acinetobacter baumannii  0.000000  0.000000  0.000000  0.000672  0.000000   \n",
       "3  Streptococcus pneumoniae  0.001360  0.005897  0.015333  0.010607  0.009416   \n",
       "4         Streptococcus sp.  0.017302  0.056198  0.127674  0.123936  0.089117   \n",
       "\n",
       "        A29       A30        A6        A7  ...       B10        B1        B2  \\\n",
       "0  0.000000  0.000000  0.000000  0.000000  ...  0.000000  0.000000  0.000000   \n",
       "1  0.000000  0.000000  0.000000  0.000000  ...  0.000000  0.000000  0.000000   \n",
       "2  0.000000  0.000000  0.000000  0.000757  ...  0.000000  0.000000  0.000000   \n",
       "3  0.009800  0.001223  0.014987  0.001853  ...  0.003100  0.001984  0.010287   \n",
       "4  0.083096  0.018752  0.128475  0.038433  ...  0.018196  0.022069  0.053126   \n",
       "\n",
       "         B3        B4        B5        B6        B7        B8        B9  \n",
       "0  0.000424  0.000000  0.000000  0.000000  0.000000  0.000000  0.000000  \n",
       "1  0.000000  0.000000  0.000000  0.000000  0.000000  0.000000  0.000000  \n",
       "2  0.000000  0.000000  0.000000  0.000000  0.000000  0.000000  0.000000  \n",
       "3  0.001397  0.001143  0.007331  0.003402  0.003255  0.017243  0.005107  \n",
       "4  0.001520  0.013387  0.063578  0.029547  0.012871  0.128268  0.041494  \n",
       "\n",
       "[5 rows x 21 columns]"
      ]
     },
     "execution_count": 14,
     "metadata": {},
     "output_type": "execute_result"
    }
   ],
   "source": [
    "thresholds = pd.read_csv('../data/metagenome/Thresholds.csv')\n",
    "thresholds = thresholds[thresholds.Sample.isin(oral_tax.columns)].reset_index().drop(['index'],axis=1)\n",
    "oral_tax = pd.read_csv('../data/metagenome/motus_profile.csv')\n",
    "oral_tax.head()"
   ]
  },
  {
   "cell_type": "code",
   "execution_count": 27,
   "id": "93de1ff2",
   "metadata": {},
   "outputs": [
    {
     "name": "stderr",
     "output_type": "stream",
     "text": [
      "/home/bras5181/miniconda3/lib/python3.8/site-packages/umap/umap_.py:1945: UserWarning: n_jobs value 1 overridden to 1 by setting random_state. Use no seed for parallelism.\n",
      "  warn(f\"n_jobs value {self.n_jobs} overridden to 1 by setting random_state. Use no seed for parallelism.\")\n"
     ]
    }
   ],
   "source": [
    "X = oral_tax.iloc[:,1:].values.T\n",
    "X = StandardScaler().fit_transform(X)\n",
    "reducer_sp = umap.UMAP(random_state=42)\n",
    "embedding = reducer_sp.fit_transform(X)\n",
    "umap_pd = pd.DataFrame(embedding, columns =['UMAP-1','UMAP-2'])\n",
    "umap_pd['Group'] = ['A (<30yr)' for i in range(10)] + ['B (>55yr)' for i in range(10)]"
   ]
  },
  {
   "cell_type": "code",
   "execution_count": 28,
   "id": "414cfc04",
   "metadata": {},
   "outputs": [
    {
     "data": {
      "text/plain": [
       "<Axes: xlabel='UMAP-1', ylabel='UMAP-2'>"
      ]
     },
     "execution_count": 28,
     "metadata": {},
     "output_type": "execute_result"
    },
    {
     "data": {
      "image/png": "[encoded data removed]",
      "text/plain": [
       "<Figure size 432x396 with 1 Axes>"
      ]
     },
     "metadata": {
      "needs_background": "light"
     },
     "output_type": "display_data"
    }
   ],
   "source": [
    "fig, ax = plt.subplots(1,1,figsize=(6,5.5))\n",
    "sns.scatterplot(x='UMAP-1', y='UMAP-2',hue=\"Group\",\n",
    "            linewidth=1,data=umap_pd, s=300, alpha=0.7, edgecolor='black', ax=ax)"
   ]
  },
  {
   "cell_type": "code",
   "execution_count": null,
   "id": "4b4800a5",
   "metadata": {},
   "outputs": [],
   "source": []
  }
 ],
 "metadata": {
  "kernelspec": {
   "display_name": "Python 3 (ipykernel)",
   "language": "python",
   "name": "python3"
  },
  "language_info": {
   "codemirror_mode": {
    "name": "ipython",
    "version": 3
   },
   "file_extension": ".py",
   "mimetype": "text/x-python",
   "name": "python",
   "nbconvert_exporter": "python",
   "pygments_lexer": "ipython3",
   "version": "3.8.18"
  }
 },
 "nbformat": 4,
 "nbformat_minor": 5
}
