{
 "cells": [
  {
   "cell_type": "code",
   "execution_count": 2,
   "id": "df8d9eb0",
   "metadata": {},
   "outputs": [],
   "source": [
    "import pandas as pd\n",
    "import numpy as np\n",
    "from matplotlib import pyplot as plt\n",
    "import seaborn as sns\n",
    "from os import listdir"
   ]
  },
  {
   "cell_type": "code",
   "execution_count": 43,
   "id": "a0dcdd1c",
   "metadata": {},
   "outputs": [],
   "source": [
    "# taxfiles = listdir('../../MOTUS_TAX/')\n",
    "# tax_values = []; samples = [];\n",
    "# for f in taxfiles:\n",
    "#     temp = pd.read_csv('../../MOTUS_TAX/'+f,skiprows=2,sep='\\t')\n",
    "#     tax_values.append(list(temp['unnamed sample']))\n",
    "#     samples.append(f.split('_')[0])\n",
    "# temp = pd.read_csv('../../MOTUS_TAX/A10_tax.txt',skiprows=2,sep='\\t')\n",
    "# taxnames = [ x.split('[')[0].strip() for x in list(temp['#consensus_taxonomy'])]\n",
    "\n",
    "\n",
    "# oral_tax = pd.DataFrame(zip(taxnames),columns=['Species'])\n",
    "# for i in range(len(samples)):\n",
    "#     oral_tax[samples[i]]=tax_values[i]\n",
    "    \n",
    "# oral_tax = oral_tax.set_index(['Species'])\n",
    "# oral_tax = oral_tax.loc[(oral_tax !=0).any(axis=1)]\n",
    "# oral_tax.to_csv('../data/metagenome/motus_profile.csv')"
   ]
  },
  {
   "cell_type": "code",
   "execution_count": null,
   "id": "1bc8b844",
   "metadata": {},
   "outputs": [],
   "source": []
  }
 ],
 "metadata": {
  "kernelspec": {
   "display_name": "Python 3 (ipykernel)",
   "language": "python",
   "name": "python3"
  },
  "language_info": {
   "codemirror_mode": {
    "name": "ipython",
    "version": 3
   },
   "file_extension": ".py",
   "mimetype": "text/x-python",
   "name": "python",
   "nbconvert_exporter": "python",
   "pygments_lexer": "ipython3",
   "version": "3.8.10"
  }
 },
 "nbformat": 4,
 "nbformat_minor": 5
}
